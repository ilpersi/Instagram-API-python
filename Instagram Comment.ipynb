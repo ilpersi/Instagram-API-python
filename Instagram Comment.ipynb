{
 "cells": [
  {
   "cell_type": "code",
   "execution_count": 1,
   "metadata": {},
   "outputs": [],
   "source": [
    "from InstagramAPI import InstagramAPI\n",
    "import time\n",
    "from datetime import datetime\n",
    "import requests\n",
    "import json"
   ]
  },
  {
   "cell_type": "code",
   "execution_count": 2,
   "metadata": {},
   "outputs": [],
   "source": [
    "url = 'https://www.instagram.com/p/BoHGsQ6HJ6W/'"
   ]
  },
  {
   "cell_type": "code",
   "execution_count": 3,
   "metadata": {},
   "outputs": [],
   "source": [
    "res = requests.get('https://api.instagram.com/oembed/?callback=&url='+url)"
   ]
  },
  {
   "cell_type": "code",
   "execution_count": 4,
   "metadata": {},
   "outputs": [],
   "source": [
    "json_res = json.loads(res.text)"
   ]
  },
  {
   "cell_type": "code",
   "execution_count": 5,
   "metadata": {},
   "outputs": [],
   "source": [
    "user_id = json_res['author_id']"
   ]
  },
  {
   "cell_type": "code",
   "execution_count": 6,
   "metadata": {},
   "outputs": [],
   "source": [
    "akun = open('.env', 'r').read().split('\\n')"
   ]
  },
  {
   "cell_type": "code",
   "execution_count": 7,
   "metadata": {},
   "outputs": [
    {
     "name": "stdout",
     "output_type": "stream",
     "text": [
      "Request return 400 error!\n",
      "Two Factor Authentication Required!\n",
      "Two Factor Identifier:  g2lP1vBbf6\n",
      "Finish login with finishTwoFactorAuth(verification_code, two_factor_identifier) !\n"
     ]
    }
   ],
   "source": [
    "API = InstagramAPI(akun[0], akun[1])\n",
    "API.login()"
   ]
  },
  {
   "cell_type": "code",
   "execution_count": 8,
   "metadata": {},
   "outputs": [
    {
     "name": "stdout",
     "output_type": "stream",
     "text": [
      "Request return 400 error!\n"
     ]
    }
   ],
   "source": [
    "API.finishTwoFactorAuth('140368', 'LbSZCPyI8G')"
   ]
  },
  {
   "cell_type": "code",
   "execution_count": 9,
   "metadata": {},
   "outputs": [],
   "source": [
    "more_available = True\n",
    "feeds = []\n",
    "max_feed_id = ''"
   ]
  },
  {
   "cell_type": "code",
   "execution_count": 10,
   "metadata": {},
   "outputs": [
    {
     "ename": "AttributeError",
     "evalue": "'InstagramAPI' object has no attribute 'rank_token'",
     "output_type": "error",
     "traceback": [
      "\u001b[1;31m---------------------------------------------------------------------------\u001b[0m",
      "\u001b[1;31mAttributeError\u001b[0m                            Traceback (most recent call last)",
      "\u001b[1;32m<ipython-input-10-1abec1619262>\u001b[0m in \u001b[0;36m<module>\u001b[1;34m()\u001b[0m\n\u001b[0;32m      1\u001b[0m \u001b[1;32mwhile\u001b[0m \u001b[0mmore_available\u001b[0m\u001b[1;33m:\u001b[0m\u001b[1;33m\u001b[0m\u001b[0m\n\u001b[1;32m----> 2\u001b[1;33m     \u001b[0mfeed_seva\u001b[0m \u001b[1;33m=\u001b[0m \u001b[0mAPI\u001b[0m\u001b[1;33m.\u001b[0m\u001b[0mgetUserFeed\u001b[0m\u001b[1;33m(\u001b[0m\u001b[0muser_id\u001b[0m\u001b[1;33m,\u001b[0m \u001b[0mmaxid\u001b[0m\u001b[1;33m=\u001b[0m\u001b[0mmax_feed_id\u001b[0m\u001b[1;33m)\u001b[0m\u001b[1;33m\u001b[0m\u001b[0m\n\u001b[0m\u001b[0;32m      3\u001b[0m     \u001b[1;31m# feed' page come from older to newer, lets preserve desc order in full list\u001b[0m\u001b[1;33m\u001b[0m\u001b[1;33m\u001b[0m\u001b[0m\n\u001b[0;32m      4\u001b[0m     \u001b[1;32mfor\u001b[0m \u001b[0mc\u001b[0m \u001b[1;32min\u001b[0m \u001b[0mAPI\u001b[0m\u001b[1;33m.\u001b[0m\u001b[0mLastJson\u001b[0m\u001b[1;33m[\u001b[0m\u001b[1;34m'items'\u001b[0m\u001b[1;33m]\u001b[0m\u001b[1;33m:\u001b[0m\u001b[1;33m\u001b[0m\u001b[0m\n\u001b[0;32m      5\u001b[0m         \u001b[0mfeeds\u001b[0m\u001b[1;33m.\u001b[0m\u001b[0mappend\u001b[0m\u001b[1;33m(\u001b[0m\u001b[0mc\u001b[0m\u001b[1;33m)\u001b[0m\u001b[1;33m\u001b[0m\u001b[0m\n",
      "\u001b[1;32mD:\\Scraper\\Instagram-API-python\\InstagramAPI\\InstagramAPI.py\u001b[0m in \u001b[0;36mgetUserFeed\u001b[1;34m(self, usernameId, maxid, minTimestamp)\u001b[0m\n\u001b[0;32m    723\u001b[0m     \u001b[1;32mdef\u001b[0m \u001b[0mgetUserFeed\u001b[0m\u001b[1;33m(\u001b[0m\u001b[0mself\u001b[0m\u001b[1;33m,\u001b[0m \u001b[0musernameId\u001b[0m\u001b[1;33m,\u001b[0m \u001b[0mmaxid\u001b[0m\u001b[1;33m=\u001b[0m\u001b[1;34m''\u001b[0m\u001b[1;33m,\u001b[0m \u001b[0mminTimestamp\u001b[0m\u001b[1;33m=\u001b[0m\u001b[1;32mNone\u001b[0m\u001b[1;33m)\u001b[0m\u001b[1;33m:\u001b[0m\u001b[1;33m\u001b[0m\u001b[0m\n\u001b[0;32m    724\u001b[0m         query = self.SendRequest('feed/user/%s/?max_id=%s&min_timestamp=%s&rank_token=%s&ranked_content=true'\n\u001b[1;32m--> 725\u001b[1;33m                                  % (usernameId, maxid, minTimestamp, self.rank_token))\n\u001b[0m\u001b[0;32m    726\u001b[0m         \u001b[1;32mreturn\u001b[0m \u001b[0mquery\u001b[0m\u001b[1;33m\u001b[0m\u001b[0m\n\u001b[0;32m    727\u001b[0m \u001b[1;33m\u001b[0m\u001b[0m\n",
      "\u001b[1;31mAttributeError\u001b[0m: 'InstagramAPI' object has no attribute 'rank_token'"
     ]
    }
   ],
   "source": [
    "while more_available:\n",
    "    feed_seva = API.getUserFeed(user_id, maxid=max_feed_id)\n",
    "    # feed' page come from older to newer, lets preserve desc order in full list\n",
    "    for c in API.LastJson['items']:\n",
    "        feeds.append(c)\n",
    "    more_available = API.LastJson.get('more_available', False)\n",
    "    # next page\n",
    "    if more_available:\n",
    "        max_feed_id = API.LastJson.get('next_max_id', '')\n",
    "        time.sleep(2)"
   ]
  },
  {
   "cell_type": "code",
   "execution_count": null,
   "metadata": {},
   "outputs": [],
   "source": [
    "has_more_comments = True\n",
    "max_id = ''\n",
    "comments = []"
   ]
  },
  {
   "cell_type": "code",
   "execution_count": null,
   "metadata": {},
   "outputs": [],
   "source": [
    "for feed in feeds\n",
    "while has_more_comments:\n",
    "    _ = API.getMediaComments(media_id, max_id=max_id)\n",
    "    # comments' page come from older to newer, lets preserve desc order in full list\n",
    "    for c in reversed(API.LastJson['comments']):\n",
    "        comments.append(c)\n",
    "    has_more_comments = API.LastJson.get('has_more_comments', False)\n",
    "    # evaluate stop conditions\n",
    "    if count and len(comments) >= count:\n",
    "        comments = comments[:count]\n",
    "        # stop loop\n",
    "        has_more_comments = False\n",
    "        print \"stopped by count\"\n",
    "    if until_date:\n",
    "        older_comment = comments[-1]\n",
    "        dt = datetime.utcfromtimestamp(older_comment.get('created_at_utc', 0))\n",
    "        # only check all records if the last is older than stop condition\n",
    "        if dt.isoformat() <= until_date:\n",
    "            # keep comments after until_date\n",
    "            comments = [\n",
    "                c\n",
    "                for c in comments\n",
    "                if datetime.utcfromtimestamp(c.get('created_at_utc', 0)) > until_date\n",
    "            ]\n",
    "            # stop loop\n",
    "            has_more_comments = False\n",
    "            print \"stopped by until_date\"\n",
    "    # next page\n",
    "    if has_more_comments:\n",
    "        max_id = API.LastJson.get('next_max_id', '')\n",
    "        time.sleep(2)"
   ]
  }
 ],
 "metadata": {
  "kernelspec": {
   "display_name": "Python 3",
   "language": "python",
   "name": "python3"
  },
  "language_info": {
   "codemirror_mode": {
    "name": "ipython",
    "version": 3
   },
   "file_extension": ".py",
   "mimetype": "text/x-python",
   "name": "python",
   "nbconvert_exporter": "python",
   "pygments_lexer": "ipython3",
   "version": "3.6.6"
  }
 },
 "nbformat": 4,
 "nbformat_minor": 2
}
